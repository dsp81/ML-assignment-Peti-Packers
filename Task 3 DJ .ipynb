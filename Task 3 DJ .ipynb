{
 "cells": [
  {
   "cell_type": "markdown",
   "metadata": {},
   "source": [
    "# Task 3 Prompt Engineering for Large Language Models (LLMs) [4 marks]\n",
    "Questions\n",
    "\n",
    "1. Demonstrate how to use Zero-Shot Learning and Few-Shot Learning to classify human activities based on the featurized accelerometer data. Qualitatively demonstrate the performance of Few-Shot Learning with Zero-Shot Learning. Which method performs better? Why?  **[1 marks]**\n",
    "2. Quantitatively compare the accuracy of Few-Shot Learning with Decision Trees (You may use a subset of the test set if you encounter rate-limiting issues). Which method performs better? Why? **[1 marks]**\n",
    "3. What are the limitations of Zero-Shot Learning and Few-Shot Learning in the context of classifying human activities based on featurized accelerometer data? **[1 marks]**\n",
    "4. What does the model classify when given input from an entirely new activity that it hasn't seen before? **[0.5 mark]**\n",
    "5. Test the model with random data (ensuring the data has the same dimensions and range as the previous input) and report the results. **[0.5 mark]**"
   ]
  },
  {
   "cell_type": "code",
   "execution_count": 2,
   "metadata": {},
   "outputs": [],
   "source": [
    "import numpy as np\n",
    "import pandas as pd\n",
    "import os\n",
    "import matplotlib.pyplot as plt\n",
    "import seaborn as sns\n",
    "from langchain_groq import ChatGroq\n",
    "from sklearn.tree import DecisionTreeClassifier\n",
    "from sklearn.model_selection import train_test_split\n",
    "from sklearn.metrics import accuracy_score, classification_report, confusion_matrix\n",
    "\n"
   ]
  },
  {
   "cell_type": "code",
   "execution_count": 3,
   "metadata": {},
   "outputs": [],
   "source": [
    "from dotenv import load_dotenv\n",
    "import os\n",
    "\n",
    "load_dotenv()\n",
    "\n",
    "groq_token = os.getenv('GROQ_TOKEN')  # Ensure .env file contains 'GROQ_TOKEN'\n",
    "\n",
    "# Mapping of model names to their identifiers\n",
    "groq_models = {\n",
    "    \"llama3-70b\": \"llama3-70b-8192\",\n",
    "    \"mixtral\": \"mixtral-8x7b-32768\",\n",
    "    \"gemma-7b\": \"gemma-7b-it\",\n",
    "    \"llama3.1-70b\": \"llama-3.1-70b-versatile\",\n",
    "    \"llama3-8b\": \"llama3-8b-8192\",\n",
    "    \"llama3.1-8b\": \"llama-3.1-8b-instant\",\n",
    "    \"gemma-9b\": \"gemma2-9b-it\"\n",
    "}\n",
    "\n",
    "# Select the desired model\n",
    "model_name = \"llama3.1-70b\"\n",
    "\n",
    "# Initialize the ChatGroq object with the selected model and API token\n",
    "llm = ChatGroq(model=groq_models[model_name], api_key=groq_token, temperature=0)\n"
   ]
  },
  {
   "cell_type": "code",
   "execution_count": 4,
   "metadata": {},
   "outputs": [],
   "source": [
    "# Training Data \n",
    "\n",
    "laying_train = pd.read_csv(\"Combined/Train/LAYING/Subject_3.csv\")\n",
    "sitting_train = pd.read_csv(\"Combined/Train/SITTING/Subject_3.csv\")\n",
    "standing_train = pd.read_csv(\"Combined/Train/STANDING/Subject_3.csv\")\n",
    "walking_train = pd.read_csv(\"Combined/Train/WALKING/Subject_3.csv\")\n",
    "downstairs_train = pd.read_csv(\"Combined/Train/WALKING_DOWNSTAIRS/Subject_3.csv\")\n",
    "upstairs_train = pd.read_csv(\"Combined/Train/WALKING_UPSTAIRS/Subject_3.csv\")\n",
    "\n",
    "laying_train = pd.DataFrame(laying_train).iloc[:100]\n",
    "sitting_train = pd.DataFrame(sitting_train).iloc[:100]\n",
    "standing_train = pd.DataFrame(standing_train).iloc[:100]\n",
    "walking_train = pd.DataFrame(walking_train).iloc[:100]\n",
    "downstairs_train = pd.DataFrame(downstairs_train).iloc[:100]\n",
    "upstairs_train = pd.DataFrame(upstairs_train).iloc[:100]\n",
    "\n",
    "# Testing data \n",
    "\n",
    "laying_test =  pd.read_csv(\"Combined/Test/LAYING/Subject_2.csv\")\n",
    "walking_test = pd.read_csv(\"Combined/Test/WALKING/Subject_2.csv\")\n",
    "sitting_test =  pd.read_csv(\"Combined/Test/SITTING/Subject_2.csv\")\n",
    "standing_test =  pd.read_csv(\"Combined/Test/STANDING/Subject_2.csv\")\n",
    "downstairs_test =  pd.read_csv(\"Combined/Test/WALKING_DOWNSTAIRS/Subject_2.csv\")\n",
    "upstairs_test =  pd.read_csv(\"Combined/Test/WALKING_UPSTAIRS/Subject_2.csv\")\n",
    "\n",
    "\n",
    "laying_test = pd.DataFrame(laying_test).iloc[:100]\n",
    "walking_test = pd.DataFrame(walking_test).iloc[:100]\n",
    "sitting_test = pd.DataFrame(sitting_test).iloc[:100]\n",
    "standing_test = pd.DataFrame(standing_test).iloc[:100]\n",
    "downstairs_test = pd.DataFrame(downstairs_test).iloc[:100]\n",
    "upstairs_test = pd.DataFrame(upstairs_test).iloc[:100]\n",
    "\n",
    "\n",
    "\n"
   ]
  },
  {
   "cell_type": "markdown",
   "metadata": {},
   "source": [
    "# Q1. Demonstrate how to use Zero-Shot Learning and Few-Shot Learning to classify human activities based on the featurized accelerometer data. Qualitatively demonstrate the performance of Few-Shot Learning with Zero-Shot Learning. Which method performs better? Why? "
   ]
  },
  {
   "cell_type": "code",
   "execution_count": 20,
   "metadata": {},
   "outputs": [
    {
     "name": "stdout",
     "output_type": "stream",
     "text": [
      "Based on the provided accelerometer data, I will classify each dataset into one of the six activities: Walking, Standing, Sitting, Laying, Walking Upstairs, and Walking Downstairs.\n",
      "\n",
      "**Dataset 1:**\n",
      "The data shows a relatively stable pattern with small variations in the x, y, and z axes. The values are mostly within the range of -0.2 to 0.8, indicating a low-intensity activity. The y-axis values are mostly positive, suggesting that the device is oriented in a way that the y-axis is pointing upwards. This pattern is consistent with a person **Standing**.\n",
      "\n",
      "**Dataset 2:**\n",
      "The data shows a high-intensity pattern with large variations in the x, y, and z axes. The values are mostly within the range of 0.5 to 1.5, indicating a high-intensity activity. The x-axis values are mostly positive, suggesting that the device is moving in a forward direction. This pattern is consistent with a person **Walking**.\n",
      "\n",
      "**Dataset 3:**\n",
      "The data shows a relatively stable pattern with small variations in the x, y, and z axes. The values are mostly within the range of 0.9 to 1.1, indicating a low-intensity activity. The x-axis values are mostly positive, suggesting that the device is oriented in a way that the x-axis is pointing forward. This pattern is consistent with a person **Sitting**.\n",
      "\n",
      "**Dataset 4:**\n",
      "The data shows a relatively stable pattern with small variations in the x, y, and z axes. The values are mostly within the range of 0.9 to 1.1, indicating a low-intensity activity. The x-axis values are mostly positive, suggesting that the device is oriented in a way that the x-axis is pointing forward. However, the y-axis values are mostly negative, suggesting that the device is oriented in a way that the y-axis is pointing downwards. This pattern is consistent with a person **Laying**.\n",
      "\n",
      "**Dataset 5:**\n",
      "The data shows a high-intensity pattern with large variations in the x, y, and z axes. The values are mostly within the range of 0.5 to 1.5, indicating a high-intensity activity. The x-axis values are mostly positive, suggesting that the device is moving in a forward direction. However, the z-axis values are mostly positive, suggesting that the device is moving upwards. This pattern is consistent with a person **Walking Upstairs**.\n",
      "\n",
      "**Dataset 6:**\n",
      "The data shows a high-intensity pattern with large variations in the x, y, and z axes. The values are mostly within the range of 0.5 to 1.5, indicating a high-intensity activity. The x-axis values are mostly positive, suggesting that the device is moving in a forward direction. However, the z-axis values are mostly negative, suggesting that the device is moving downwards. This pattern is consistent with a person **Walking Downstairs**.\n",
      "\n",
      "In summary, the classifications are:\n",
      "\n",
      "* Dataset 1: Standing\n",
      "* Dataset 2: Walking\n",
      "* Dataset 3: Sitting\n",
      "* Dataset 4: Laying\n",
      "* Dataset 5: Walking Upstairs\n",
      "* Dataset 6: Walking Downstairs\n"
     ]
    }
   ],
   "source": [
    "# Zero shot demonstration\n",
    "\n",
    "prompt_0 = f\"\"\"\n",
    "You are a human activity recognition model. Your task is to classify the following accelerometer data into one of the six activities:\n",
    "\n",
    "1. Walking\n",
    "2. Standing\n",
    "3. Sitting\n",
    "4. Laying\n",
    "5. Walking Upstairs\n",
    "6. Walking Downstairs\n",
    "\n",
    "Below is the accelerometer data for each activity. For each dataset, identify the corresponding activity and provide a brief explanation if necessary.\n",
    "\n",
    "1.{laying_test}\n",
    "\n",
    "2.{walking_test}\n",
    "\n",
    "3.{sitting_test}\n",
    "\n",
    "4.{standing_test}\n",
    "\n",
    "5.{downstairs_test}\n",
    "\n",
    "6.{upstairs_test}\n",
    "\n",
    "Please classify the activity for each of the six datasets and provide any relevant reasoning for your classification.\n",
    "\"\"\"\n",
    "\n",
    "response_0 = llm.invoke(prompt_0)\n",
    "print(response_0.content)\n"
   ]
  },
  {
   "cell_type": "code",
   "execution_count": 19,
   "metadata": {},
   "outputs": [
    {
     "name": "stdout",
     "output_type": "stream",
     "text": [
      "Based on the provided examples and test datasets, I will classify each activity as follows:\n",
      "\n",
      "1. **Laying**: \n",
      "The test dataset has a similar pattern to the example provided for laying. The values of accx, accy, and accz are relatively stable and close to each other, with accy being the largest. This is consistent with the example provided for laying.\n",
      "\n",
      "2. **Walking Downstairs**: \n",
      "The test dataset has a similar pattern to the example provided for walking downstairs. The values of accx are relatively high, and accy and accz are negative. This is consistent with the example provided for walking downstairs.\n",
      "\n",
      "3. **Standing**: \n",
      "The test dataset has a similar pattern to the example provided for standing. The values of accx are close to 1, and accy is negative. Accz is relatively small. This is consistent with the example provided for standing.\n",
      "\n",
      "4. **Standing**: \n",
      "The test dataset has a similar pattern to the example provided for standing. The values of accx are close to 1, and accy is negative. Accz is relatively small. This is consistent with the example provided for standing.\n",
      "\n",
      "5. **Walking**: \n",
      "The test dataset has a similar pattern to the example provided for walking. The values of accx are relatively low, and accy is negative. Accz is also negative. This is consistent with the example provided for walking.\n",
      "\n",
      "6. **Walking Upstairs**: \n",
      "The test dataset has a similar pattern to the example provided for walking upstairs. The values of accx are relatively high, and accy is negative. Accz is also negative. This is consistent with the example provided for walking upstairs.\n",
      "\n",
      "Note that the classification is based on the patterns observed in the example datasets and may not be 100% accurate. There may be some overlap between the patterns of different activities, and the classification may not always be clear-cut.\n"
     ]
    }
   ],
   "source": [
    "# Few-shot demonstration\n",
    "\n",
    "prompt_few = f\"\"\"\n",
    "You are a human activity recognition model. Your task is to classify the following accelerometer data into one of the six activities:\n",
    "\n",
    "1. Walking\n",
    "2. Standing\n",
    "3. Sitting\n",
    "4. Laying\n",
    "5. Walking Upstairs\n",
    "6. Walking Downstairs\n",
    "\n",
    "Below are examples of accelerometer data for each activity:\n",
    "\n",
    "1. **Laying:**\n",
    "{laying_train}\n",
    "\n",
    "2. **Sitting:**\n",
    "{sitting_train}\n",
    "\n",
    "3. **Standing:**\n",
    "{standing_train}\n",
    "\n",
    "4. **Walking:**\n",
    "{walking_train}\n",
    "\n",
    "5. **Walking Downstairs:**\n",
    "{downstairs_train}\n",
    "\n",
    "6. **Walking Upstairs:**\n",
    "{upstairs_train}\n",
    "\n",
    "Now, classify the activity for the following test datasets based on the examples provided:\n",
    "\n",
    "1.{laying_test}\n",
    "\n",
    "2.{walking_test}\n",
    "\n",
    "3.{sitting_test}\n",
    "\n",
    "4.{standing_test}\n",
    "\n",
    "5.{downstairs_test}\n",
    "\n",
    "6.{upstairs_test}\n",
    "\n",
    "Please provide the activity classification for each dataset and include any relevant reasoning if necessary.\n",
    "\"\"\"\n",
    "\n",
    "response_few = llm.invoke(prompt_few)\n",
    "print(response_few.content)\n"
   ]
  },
  {
   "cell_type": "markdown",
   "metadata": {},
   "source": [
    "Few-shot learning usually works better than zero-shot learning because it uses specific examples to help the model understand the task. By giving the model clear examples, few-shot learning makes it easier for the model to make accurate predictions. On the other hand, zero-shot learning doesn’t have these direct examples to guide it, so it might not be as precise. Essentially, few-shot learning benefits from the extra context provided by examples, leading to better and more reliable results."
   ]
  },
  {
   "cell_type": "markdown",
   "metadata": {},
   "source": [
    "Q2. Quantitatively compare the accuracy of Few-Shot Learning with Decision Trees (You may use a subset of the test set if you encounter rate-limiting issues). Which method performs better? Why?"
   ]
  },
  {
   "cell_type": "code",
   "execution_count": 23,
   "metadata": {},
   "outputs": [
    {
     "name": "stdout",
     "output_type": "stream",
     "text": [
      "Accuracy: 50.00%\n"
     ]
    }
   ],
   "source": [
    "actual_labels = [\"Laying\", \"Sitting\", \"Standing\", \"Walking\", \"WalkingDownstairs\", \"WalkingUpstairs\"]\n",
    "predicted_labels = [\"Laying\", \"WalkingDownstairs\", \"Standing\", \"Standing\", \"Walking\", \"WalkingUpstairs\"]\n",
    "\n",
    "accuracy_percentage = accuracy_score(actual_labels, predicted_labels) * 100\n",
    "print(f\"Accuracy: {accuracy_percentage:.2f}%\")\n"
   ]
  },
  {
   "cell_type": "code",
   "execution_count": 29,
   "metadata": {},
   "outputs": [
    {
     "name": "stdout",
     "output_type": "stream",
     "text": [
      "Accuracy: 80.83%\n",
      "Classification Report:\n",
      "                    precision    recall  f1-score   support\n",
      "\n",
      "            Laying       1.00      1.00      1.00        23\n",
      "           Sitting       1.00      1.00      1.00        20\n",
      "          Standing       1.00      1.00      1.00        19\n",
      "           Walking       0.50      0.47      0.48        17\n",
      "Walking Downstairs       0.47      0.47      0.47        17\n",
      "  Walking Upstairs       0.76      0.79      0.78        24\n",
      "\n",
      "          accuracy                           0.81       120\n",
      "         macro avg       0.79      0.79      0.79       120\n",
      "      weighted avg       0.81      0.81      0.81       120\n",
      "\n",
      "Confusion Matrix:\n"
     ]
    },
    {
     "data": {
      "image/png": "[encoded data removed]",
      "text/plain": [
       "<Figure size 640x480 with 2 Axes>"
      ]
     },
     "metadata": {},
     "output_type": "display_data"
    }
   ],
   "source": [
    "laying_df = pd.DataFrame(laying_test).iloc[:100]\n",
    "walking_df = pd.DataFrame(walking_test).iloc[:100]\n",
    "sitting_df = pd.DataFrame(sitting_test).iloc[:100]\n",
    "standing_df = pd.DataFrame(standing_test).iloc[:100]\n",
    "downstairs_df = pd.DataFrame(downstairs_test).iloc[:100]\n",
    "upstairs_df = pd.DataFrame(upstairs_test).iloc[:100]\n",
    "\n",
    "\n",
    "laying_df['label'] = 'Laying'\n",
    "sitting_df['label'] = 'Sitting'\n",
    "standing_df['label'] = 'Standing'\n",
    "walking_df['label'] = 'Walking'\n",
    "downstairs_df['label'] = 'Walking Downstairs'\n",
    "upstairs_df['label'] = 'Walking Upstairs'\n",
    "\n",
    "\n",
    "df = pd.concat([laying_df, sitting_df, standing_df, walking_df, downstairs_df, upstairs_df], ignore_index=True)\n",
    "\n",
    "x = df.drop('label', axis=1) \n",
    "y = df['label']               \n",
    "\n",
    "features_train, features_test, labels_train, labels_test = train_test_split(x, y, test_size=0.2, random_state=42)\n",
    "\n",
    "tree_clf = DecisionTreeClassifier(random_state=42)\n",
    "tree_clf.fit(features_train, labels_train)\n",
    "\n",
    "predictions = tree_clf.predict(features_test)\n",
    "\n",
    "accuracy_percentage = accuracy_score(labels_test, predictions) * 100\n",
    "print(f\"Accuracy: {accuracy_percentage:.2f}%\")\n",
    "\n",
    "print(\"Classification Report:\")\n",
    "print(classification_report(labels_test, predictions))\n",
    "\n",
    "print(\"Confusion Matrix:\")\n",
    "conf_matrix = confusion_matrix(labels_test, predictions)\n",
    "sns.heatmap(conf_matrix, annot=True, fmt='d', cmap='Blues', linewidths=0.5, linecolor='black')\n",
    "plt.title(\"Confusion Matrix\")\n",
    "plt.xlabel(\"Predicted Label\")\n",
    "plt.ylabel(\"True Label\")\n",
    "plt.show()\n",
    "\n",
    "\n"
   ]
  },
  {
   "cell_type": "markdown",
   "metadata": {},
   "source": [
    "As we can see, the accuracy with few-shot learning is 50% while decision tree classifier from the scikit library gives us 80.83% accuracy. Its quite evident that the decision trees work better in this case than our fewshot learning model."
   ]
  },
  {
   "cell_type": "markdown",
   "metadata": {},
   "source": [
    "# Q3: What are the limitations of Zero-Shot Learning and Few-Shot Learning in the context of classifying human activities based on featurized accelerometer data? "
   ]
  },
  {
   "cell_type": "markdown",
   "metadata": {},
   "source": [
    "When classifying human activities based on accelerometer data, zero-shot learning has limitations because it depends on general descriptions rather than specific examples. This can lead to inaccuracies if the general descriptions do not capture the nuances of the activities, making it difficult for the model to handle ambiguous or diverse data effectively. On the other hand, few-shot learning improves accuracy by using specific examples to guide the model, but it is constrained by the limited number of examples available. This limitation can result in overfitting or poor generalization if the examples do not fully represent the variability of the activities. Both approaches have their strengths and weaknesses, with zero-shot learning struggling with generalization and few-shot learning relying heavily on the quality and variety of a small set of examples.\n",
    "    \n"
   ]
  },
  {
   "cell_type": "markdown",
   "metadata": {},
   "source": [
    "# Q4. What does the model classify when given input from an entirely new activity that it hasn't seen before?\n",
    "\n"
   ]
  },
  {
   "cell_type": "markdown",
   "metadata": {},
   "source": [
    "When classifying human activities based on accelerometer data, zero-shot learning faces challenges because it relies on broad, general descriptions rather than specific examples. This can result in inaccuracies if the general descriptions fail to capture the detailed characteristics of the activities, making it difficult for the model to effectively differentiate between nuanced or diverse data.\n",
    "\n",
    "In contrast, few-shot learning can offer more accurate classifications by leveraging specific examples to guide the model’s understanding. However, its effectiveness is limited by the small number of examples available. If these examples do not adequately represent the full range of activity variability, the model may struggle with overfitting or fail to generalize well to new or diverse data. Thus, zero-shot learning may struggle with generalization due to its lack of specific examples, while few-shot learning is constrained by the quality and representativeness of its limited examples."
   ]
  },
  {
   "cell_type": "markdown",
   "metadata": {},
   "source": [
    "# Q5. Test the model with random data (ensuring the data has the same dimensions and range as the previous input) and report the results."
   ]
  },
  {
   "cell_type": "code",
   "execution_count": 5,
   "metadata": {},
   "outputs": [],
   "source": [
    "def create_random_dataset(num_rows=70):\n",
    "    np.random.seed(42)  \n",
    "    num_samples = num_rows  \n",
    "    num_features = 3  \n",
    "    data = np.random.randn(num_samples, num_features)\n",
    "    df = pd.DataFrame(data, columns=['x_acc', 'y_acc', 'z_acc'])\n",
    "    return df\n",
    "\n",
    "# Generate datasets for each activity\n",
    "activity_datasets = {\n",
    "    \"Laying\": create_random_dataset(),\n",
    "    \"Walking\": create_random_dataset(),\n",
    "    \"Sitting\": create_random_dataset(),\n",
    "    \"Standing\": create_random_dataset(),\n",
    "    \"Walking_Upstairs\": create_random_dataset(),\n",
    "    \"Walking_Downstairs\": create_random_dataset()\n",
    "}\n",
    "\n",
    "# Convert datasets to CSV format and limit to the first 100 rows\n",
    "csv_datasets = {activity: df.head(100).to_csv(index=False) for activity, df in activity_datasets.items()}\n"
   ]
  },
  {
   "cell_type": "code",
   "execution_count": 6,
   "metadata": {},
   "outputs": [
    {
     "name": "stdout",
     "output_type": "stream",
     "text": [
      "Based on the provided accelerometer data, I will classify each dataset into one of the six activities: Walking, Standing, Laying, Walking Upstairs, Walking Downstairs, and Sitting.\n",
      "\n",
      "1. Dataset 1: \n",
      "The data shows a mix of high and low acceleration values in all three axes (x, y, z), indicating movement. However, the values are not consistently high or low, suggesting that the movement is not strictly vertical or horizontal. This pattern is typical of walking. Therefore, I classify this dataset as **Walking**.\n",
      "\n",
      "2. Dataset 2: \n",
      "This dataset is identical to Dataset 1. Therefore, I classify this dataset as **Walking**.\n",
      "\n",
      "3. Dataset 3: \n",
      "This dataset is identical to Dataset 1 and Dataset 2. Therefore, I classify this dataset as **Walking**.\n",
      "\n",
      "4. Dataset 4: \n",
      "This dataset is identical to Dataset 1, Dataset 2, and Dataset 3. Therefore, I classify this dataset as **Walking**.\n",
      "\n",
      "5. Dataset 5: \n",
      "This dataset is identical to Dataset 1, Dataset 2, Dataset 3, and Dataset 4. Therefore, I classify this dataset as **Walking**.\n",
      "\n",
      "6. Dataset 6: \n",
      "This dataset is identical to Dataset 1, Dataset 2, Dataset 3, Dataset 4, and Dataset 5. Therefore, I classify this dataset as **Walking**.\n",
      "\n",
      "It appears that all six datasets are identical, and they all represent the activity of **Walking**.\n"
     ]
    }
   ],
   "source": [
    "# Zero-shot classification prompt\n",
    "\n",
    "prompt_0_1 = f\"\"\"\n",
    "You are a human activity recognition model. Your task is to classify the following accelerometer data into one of the six activities:\n",
    "\n",
    "1. Walking\n",
    "2. Standing\n",
    "3. Laying\n",
    "4. Walking Upstairs\n",
    "5. Walking Downstairs\n",
    "6. Sitting\n",
    "\n",
    "For each dataset provided, identify the activity it corresponds to and provide a brief explanation for your reasoning if needed.\n",
    "\n",
    "Here are the accelerometer data samples:\n",
    "\n",
    "1.{csv_datasets['Walking']}\n",
    "\n",
    "2.{csv_datasets['Standing']}\n",
    "\n",
    "3.{csv_datasets['Laying']}\n",
    "\n",
    "4.{csv_datasets['Walking_Upstairs']}\n",
    "\n",
    "5.{csv_datasets['Walking_Downstairs']}\n",
    "\n",
    "6.{csv_datasets['Sitting']}\n",
    "\n",
    "Please classify each of these datasets according to the activities mentioned above.\n",
    "\"\"\"\n",
    "\n",
    "# Invoke the model with the zero-shot prompt\n",
    "response_0_1 = llm.invoke(prompt_0_1)\n",
    "print(response_0_1.content)\n"
   ]
  },
  {
   "cell_type": "code",
   "execution_count": 7,
   "metadata": {},
   "outputs": [
    {
     "name": "stdout",
     "output_type": "stream",
     "text": [
      "Based on the provided examples, I will classify the datasets as follows:\n",
      "\n",
      "1. **Dataset 1:** Walking\n",
      "   - Reasoning: The dataset is identical to the example provided for Walking.\n",
      "\n",
      "2. **Dataset 2:** Walking\n",
      "   - Reasoning: The dataset is identical to the example provided for Walking.\n",
      "\n",
      "3. **Dataset 3:** Walking\n",
      "   - Reasoning: The dataset is identical to the example provided for Walking.\n",
      "\n",
      "4. **Dataset 4:** Walking\n",
      "   - Reasoning: The dataset is identical to the example provided for Walking.\n",
      "\n",
      "5. **Dataset 5:** Walking\n",
      "   - Reasoning: The dataset is identical to the example provided for Walking.\n",
      "\n",
      "6. **Dataset 6:** Walking\n",
      "   - Reasoning: The dataset is identical to the example provided for Walking.\n",
      "\n",
      "Note that all the provided datasets are identical to the example provided for Walking.\n"
     ]
    }
   ],
   "source": [
    "# Few-shot classification prompt\n",
    "\n",
    "prompt_few_1 = f\"\"\"\n",
    "You are an advanced human activity recognition model. Your task is to classify the following accelerometer data into one of the six predefined activities:\n",
    "\n",
    "1. Walking\n",
    "2. Standing\n",
    "3. Laying\n",
    "4. Walking Upstairs\n",
    "5. Walking Downstairs\n",
    "6. Sitting\n",
    "\n",
    "For each dataset provided, identify the activity it corresponds to. Use the examples given to guide your classification, and provide only the activity labels for each dataset.\n",
    "\n",
    "Here are some examples of datasets along with their corresponding activities for your reference:\n",
    "\n",
    "1. **Walking Data Sample:**\n",
    "{csv_datasets['Walking']}\n",
    "   - Activity: Walking\n",
    "\n",
    "2. **Standing Data Sample:**\n",
    "{csv_datasets['Standing']}\n",
    "   - Activity: Standing\n",
    "\n",
    "3. **Laying Data Sample:**\n",
    "{csv_datasets['Laying']}\n",
    "   - Activity: Laying\n",
    "\n",
    "4. **Walking Upstairs Data Sample:**\n",
    "{csv_datasets['Walking_Upstairs']}\n",
    "   - Activity: Walking Upstairs\n",
    "\n",
    "5. **Walking Downstairs Data Sample:**\n",
    "{csv_datasets['Walking_Downstairs']}\n",
    "   - Activity: Walking Downstairs\n",
    "\n",
    "6. **Sitting Data Sample:**\n",
    "{csv_datasets['Sitting']}\n",
    "   - Activity: Sitting\n",
    "\n",
    "Now, using the examples above as a reference, classify the following datasets:\n",
    "\n",
    "1. **Dataset 1:**\n",
    "{csv_datasets['Walking']}\n",
    "   - Activity: \n",
    "\n",
    "2. **Dataset 2:**\n",
    "{csv_datasets['Standing']}\n",
    "   - Activity: \n",
    "\n",
    "3. **Dataset 3:**\n",
    "{csv_datasets['Laying']}\n",
    "   - Activity: \n",
    "\n",
    "4. **Dataset 4:**\n",
    "{csv_datasets['Walking_Upstairs']}\n",
    "   - Activity: \n",
    "\n",
    "5. **Dataset 5:**\n",
    "{csv_datasets['Walking_Downstairs']}\n",
    "   - Activity: \n",
    "\n",
    "6. **Dataset 6:**\n",
    "{csv_datasets['Sitting']}\n",
    "   - Activity: \n",
    "\n",
    "Please provide the activity label for each dataset based on the activities mentioned above and give reasoning if possible. Ensure that your classifications are accurate and reflect the examples provided.\n",
    "\"\"\"\n",
    "\n",
    "# Invoke the model with the few-shot prompt\n",
    "response_few_1 = llm.invoke(prompt_few_1)\n",
    "print(response_few_1.content)\n"
   ]
  }
 ],
 "metadata": {
  "kernelspec": {
   "display_name": "base",
   "language": "python",
   "name": "python3"
  },
  "language_info": {
   "codemirror_mode": {
    "name": "ipython",
    "version": 3
   },
   "file_extension": ".py",
   "mimetype": "text/x-python",
   "name": "python",
   "nbconvert_exporter": "python",
   "pygments_lexer": "ipython3",
   "version": "3.12.4"
  },
  "orig_nbformat": 4
 },
 "nbformat": 4,
 "nbformat_minor": 2
}
